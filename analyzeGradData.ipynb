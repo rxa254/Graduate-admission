{
 "cells": [
  {
   "cell_type": "markdown",
   "metadata": {},
   "source": [
    "# Introduction"
   ]
  },
  {
   "cell_type": "markdown",
   "metadata": {},
   "source": [
    "In this notebook I'll apply different EDA (Exploratory Data Analysis) techniques on the [Graduate Admission 2 data](https://www.kaggle.com/mohansacharya/graduate-admissions).\n",
    "\n",
    "The goal in this data is to predict the *student's chance of admission* to a postgraduate education, given several *predictor* variables for the student."
   ]
  },
  {
   "cell_type": "markdown",
   "metadata": {},
   "source": [
    "# Import libraries"
   ]
  },
  {
   "cell_type": "code",
   "execution_count": null,
   "metadata": {},
   "outputs": [],
   "source": [
    "import pandas as pd\n",
    "import plotly.express as px\n",
    "from scipy import stats"
   ]
  },
  {
   "cell_type": "markdown",
   "metadata": {},
   "source": [
    "Defing some color values:"
   ]
  },
  {
   "cell_type": "code",
   "execution_count": null,
   "metadata": {},
   "outputs": [],
   "source": [
    "red_color_hex = \"#E01427\"\n",
    "green_color_hex = \"#158A24\"\n",
    "blue_color_hex = \"#04668C\""
   ]
  },
  {
   "cell_type": "markdown",
   "metadata": {},
   "source": [
    "# Load data"
   ]
  },
  {
   "cell_type": "markdown",
   "metadata": {},
   "source": [
    "There are two data files:\n",
    "- `Admission_Predict.csv`\n",
    "- `Admission_Predict_Ver1.1.csv`\n",
    "Will use the second one, since it contains more data points."
   ]
  },
  {
   "cell_type": "code",
   "execution_count": null,
   "metadata": {},
   "outputs": [],
   "source": [
    "df = pd.read_csv(\"data/Admission_Predict_Ver1.1.csv\")"
   ]
  },
  {
   "cell_type": "markdown",
   "metadata": {},
   "source": [
    "According to the dataset author on Kaggle, the columns in this data represents:\n",
    "- `GRE Score`: The Graduate Record Examinations is a standardized test that is an admissions requirement for many graduate schools in the United States and Canada.\n",
    "- `TOEFL Score`: Score in TOEFL exam.\n",
    "- `University Rating`: Student undergraduate university ranking.\n",
    "- `SOP`: Statement of Purpose strength.\n",
    "- `LOR`: Letter of Recommendation strength.\n",
    "- `CGPA`: Undergraduate GPA.\n",
    "- `Research`: Whether student has research experience or not.\n",
    "- `Chance of Admit`: Admission chance."
   ]
  },
  {
   "cell_type": "markdown",
   "metadata": {},
   "source": [
    "# Getting to know the data"
   ]
  },
  {
   "cell_type": "markdown",
   "metadata": {},
   "source": [
    "In this section, we'll take a quick look at the data, to see how many row are there, and whther there are any missing values or not, to decie what kind of preprocessing will be needed."
   ]
  },
  {
   "cell_type": "code",
   "execution_count": null,
   "metadata": {},
   "outputs": [],
   "source": [
    "df.head()"
   ]
  },
  {
   "cell_type": "code",
   "execution_count": null,
   "metadata": {},
   "outputs": [],
   "source": [
    "df.columns"
   ]
  },
  {
   "cell_type": "code",
   "execution_count": null,
   "metadata": {},
   "outputs": [],
   "source": [
    "df.shape"
   ]
  },
  {
   "cell_type": "code",
   "execution_count": null,
   "metadata": {},
   "outputs": [],
   "source": [
    "df.isnull().sum()"
   ]
  },
  {
   "cell_type": "code",
   "execution_count": null,
   "metadata": {},
   "outputs": [],
   "source": [
    "df.dtypes"
   ]
  },
  {
   "cell_type": "markdown",
   "metadata": {},
   "source": [
    "The dataset consists of 500 samples and 9 columns: 8 *predictors* and one *target* variable.\n",
    "\n",
    "There are no missing values (which is a very good thing!), but some column names need to be cleaned, and the `Serial No.` must be removed, as it has nothing to do with the student's overall admission chance.\n",
    "\n",
    "Lookin at the `dtypes` it seems that all columns are in the correct data type, discrete columns are in `int64` and continuous in `float64`."
   ]
  },
  {
   "cell_type": "markdown",
   "metadata": {},
   "source": [
    "# Data cleaning and Preprocessing"
   ]
  },
  {
   "cell_type": "markdown",
   "metadata": {},
   "source": [
    "As stated in the previous section, only few *cleaning* will be performed, mainly:\n",
    "- remove extra whitespace from column names.\n",
    "- drop `Serial No.` column\n",
    "- convert `Research` column to bool."
   ]
  },
  {
   "cell_type": "code",
   "execution_count": null,
   "metadata": {},
   "outputs": [],
   "source": [
    "df.columns"
   ]
  },
  {
   "cell_type": "markdown",
   "metadata": {},
   "source": [
    "Pandas has a great feature which allows us to apply multiple functions on the `DataFrame` in a sequential order: the [pipe](https://pandas.pydata.org/pandas-docs/stable/reference/api/pandas.DataFrame.pipe.html) method.\n",
    "\n",
    "Here, I'll define two separate functions for applying each processing step, and then call them using the `pipe` function."
   ]
  },
  {
   "cell_type": "code",
   "execution_count": null,
   "metadata": {},
   "outputs": [],
   "source": [
    "def read_data():\n",
    "    temp_df = pd.read_csv(\"data/Admission_Predict_Ver1.1.csv\")\n",
    "    return temp_df"
   ]
  },
  {
   "cell_type": "code",
   "execution_count": null,
   "metadata": {},
   "outputs": [],
   "source": [
    "def normalize_column_names(temp_df):\n",
    "    return temp_df.rename(\n",
    "        columns={\"LOR \": \"LOR\", \"Chance of Admit \": \"Chance of Admit\"}\n",
    "    )"
   ]
  },
  {
   "cell_type": "code",
   "execution_count": null,
   "metadata": {},
   "outputs": [],
   "source": [
    "def drop_noisy_columns(temp_df):\n",
    "    return temp_df.drop(columns=[\"Serial No.\"])"
   ]
  },
  {
   "cell_type": "code",
   "execution_count": null,
   "metadata": {},
   "outputs": [],
   "source": [
    "def normalize_dtypes(temp_df):\n",
    "    return temp_df.astype({\"Research\": bool, \"University Rating\": str})"
   ]
  },
  {
   "cell_type": "code",
   "execution_count": null,
   "metadata": {},
   "outputs": [],
   "source": [
    "def sort_uni_ranking(temp_df):\n",
    "    return temp_df.sort_values(by=\"University Rating\")"
   ]
  },
  {
   "cell_type": "markdown",
   "metadata": {},
   "source": [
    "Now, we plug them together:"
   ]
  },
  {
   "cell_type": "code",
   "execution_count": null,
   "metadata": {},
   "outputs": [],
   "source": [
    "df = (\n",
    "    read_data()\n",
    "    .pipe(normalize_column_names)\n",
    "    .pipe(drop_noisy_columns)\n",
    "    .pipe(normalize_dtypes)\n",
    "    .pipe(sort_uni_ranking)\n",
    ")"
   ]
  },
  {
   "cell_type": "code",
   "execution_count": null,
   "metadata": {},
   "outputs": [],
   "source": [
    "df.columns"
   ]
  },
  {
   "cell_type": "code",
   "execution_count": null,
   "metadata": {},
   "outputs": [],
   "source": [
    "df.shape"
   ]
  },
  {
   "cell_type": "code",
   "execution_count": null,
   "metadata": {},
   "outputs": [],
   "source": [
    "df.dtypes"
   ]
  },
  {
   "cell_type": "markdown",
   "metadata": {},
   "source": [
    "We *cleaned* the data with a *clean* code!"
   ]
  },
  {
   "cell_type": "markdown",
   "metadata": {},
   "source": [
    "# Exploratory Data Analysis (EDA)"
   ]
  },
  {
   "cell_type": "markdown",
   "metadata": {},
   "source": [
    "In this section, we'll explore the data *visually* and summarize it using *descriptive statistic* methods.\n",
    "\n",
    "To keep things simpler, we'll divide this section into three subsections:\n",
    "1. Univariate analysis: in this section we'll focus only at one variable at a time, and study the variable descriptive statistics with some charts like: Bar chart, Line chart, Histogram, Boxplot, etc ..., and how the variable is distributed, and if there is any *skewness* in the distribution.\n",
    "2. Bivariate analysis: in this section we'll study the relation between *two* variables, and present different statistics such as Correlation, Covariance, and will use some other charts like: scatterplot, and will make use of the `hue` parameter of the previous charts.\n",
    "3. Multivariate analysis: in this section we'll study the relation between three or more variables, and will use additional type of charts, such as parplot."
   ]
  },
  {
   "cell_type": "markdown",
   "metadata": {},
   "source": [
    "## Univariate Analysis"
   ]
  },
  {
   "cell_type": "markdown",
   "metadata": {},
   "source": [
    "Here in this section, will perform analysis on each variable individually, but according to the variable type different methods and visualization will be used, main types of variables:\n",
    "- Numerical: numerical variables are variables which measures things like: counts, grades, etc ..., and they don't have a *finite* set of values, and they can be divided to:\n",
    "    - Continuous: continuous variables are continous measurements such as weight, height.\n",
    "    - Discrete: discrete variables represent counts such as number of children in a family, number of rooms in a house.\n",
    "- Categorical: a categorical variable is a variable which takes one of a limited values, and it can be further divided to:\n",
    "    - Nominal: nominal variable has a finite set of possible values, which don't have any ordereing relation among them, like countries, for example we can't say that `France` is higher than `Germany`: `France` > `Germany`, therfore, there's no sense of ordering between the values in a noinal variable.\n",
    "    - Ordinal: in contrast to `Nominal` variable, ordinal varible defines an ordering relation between the values, such as the student performance in an exam, which can be: `Bad`, `Good`, `Very Good`, and `Excellent` (there's an ordering relation among theses values, and we can say that `Bad` is lower than `Good`: `Bad` < `Good`)\n",
    "    - Binary: binary variables are a special case of nominal variables, but they only have *two* possible values, like admission status which can either be `Accepted` or `Not Accepted`.\n",
    "\n",
    "resources:\n",
    "- [Variable types and examples](https://www.statsandr.com/blog/variable-types-and-examples/)\n",
    "- [What is the difference between ordinal, interval and ratio variables? Why should I care?](https://www.graphpad.com/support/faq/what-is-the-difference-between-ordinal-interval-and-ratio-variables-why-should-i-care/)"
   ]
  },
  {
   "cell_type": "markdown",
   "metadata": {},
   "source": [
    "Let's see what are the types of variables in our dataset:"
   ]
  },
  {
   "cell_type": "code",
   "execution_count": null,
   "metadata": {},
   "outputs": [],
   "source": [
    "df.describe()"
   ]
  },
  {
   "cell_type": "markdown",
   "metadata": {},
   "source": [
    "- Discrete: `GRE Score` and `TOEFL Score` are discrete variables.\n",
    "- Continuous: `CGPA` and `Chance of Admit` are continuous variables.\n",
    "- Ordinal: `University Rating`, `SOP` and `LOR` are ordinal variables.\n",
    "- Binary: `Research` is a binary variable."
   ]
  },
  {
   "cell_type": "markdown",
   "metadata": {},
   "source": [
    "### `GRE Score`"
   ]
  },
  {
   "cell_type": "markdown",
   "metadata": {},
   "source": [
    "The `GRE Score` is a discrete variable."
   ]
  },
  {
   "cell_type": "code",
   "execution_count": null,
   "metadata": {},
   "outputs": [],
   "source": [
    "df[\"GRE Score\"].describe()"
   ]
  },
  {
   "cell_type": "code",
   "execution_count": null,
   "metadata": {},
   "outputs": [],
   "source": [
    "print(df[\"GRE Score\"].mode())"
   ]
  },
  {
   "cell_type": "code",
   "execution_count": null,
   "metadata": {},
   "outputs": [],
   "source": [
    "print(stats.skew(df[\"GRE Score\"]))"
   ]
  },
  {
   "cell_type": "code",
   "execution_count": null,
   "metadata": {},
   "outputs": [],
   "source": [
    "fig = px.histogram(\n",
    "    df,\n",
    "    x=\"GRE Score\",\n",
    "    color_discrete_sequence=[blue_color_hex],\n",
    "    nbins=20,\n",
    "    marginal=\"box\",\n",
    "    title=\"Distribution of the <b>GRE Score</b> variable\",\n",
    ")\n",
    "\n",
    "fig.show()"
   ]
  },
  {
   "cell_type": "markdown",
   "metadata": {},
   "source": [
    "We can conclude from the previous chart the following:\n",
    "\n",
    "- The GRE scores are *very close* to a normal distribution, with a small negative skewnewss (left skewed).\n",
    "- The most common scores are between `310` and `325`.\n",
    "- The average score is `316` with a standard deviation of `11.2`.\n",
    "- There are no outliers.\n",
    "\n",
    "This variable doesn't need any further processing."
   ]
  },
  {
   "cell_type": "markdown",
   "metadata": {},
   "source": [
    "### `TOEFL Score`"
   ]
  },
  {
   "cell_type": "markdown",
   "metadata": {},
   "source": [
    "The `TOEFL Score` is a discrete variable."
   ]
  },
  {
   "cell_type": "code",
   "execution_count": null,
   "metadata": {},
   "outputs": [],
   "source": [
    "df[\"TOEFL Score\"].describe()"
   ]
  },
  {
   "cell_type": "code",
   "execution_count": null,
   "metadata": {},
   "outputs": [],
   "source": [
    "print(df[\"TOEFL Score\"].mode())"
   ]
  },
  {
   "cell_type": "code",
   "execution_count": null,
   "metadata": {},
   "outputs": [],
   "source": [
    "print(stats.skew(df[\"TOEFL Score\"]))"
   ]
  },
  {
   "cell_type": "code",
   "execution_count": null,
   "metadata": {},
   "outputs": [],
   "source": [
    "fig = px.histogram(\n",
    "    df,\n",
    "    x=\"TOEFL Score\",\n",
    "    color_discrete_sequence=[blue_color_hex],\n",
    "    marginal=\"box\",\n",
    "    nbins=15,\n",
    "    title=\"Distribution of <b>TOEFL Score</b> variable\",\n",
    ")\n",
    "\n",
    "fig.show()"
   ]
  },
  {
   "cell_type": "code",
   "execution_count": null,
   "metadata": {},
   "outputs": [],
   "source": [
    "df[\"TOEFL Score\"].value_counts()[:4]"
   ]
  },
  {
   "cell_type": "markdown",
   "metadata": {},
   "source": [
    "From the previous chart, we can conclude:\n",
    "- TOEFL scores are also normally distributed, with a small positive (right skewness).\n",
    "- The average TOEFL score is `107` with a standard deviation `6`.\n",
    "- The most common scores are: `110`, `105`, `104` and `112`.\n",
    "- There are no outliers."
   ]
  },
  {
   "cell_type": "markdown",
   "metadata": {},
   "source": [
    "The variable doesn't need any further processing."
   ]
  },
  {
   "cell_type": "markdown",
   "metadata": {},
   "source": [
    "### `University Rating`"
   ]
  },
  {
   "cell_type": "markdown",
   "metadata": {},
   "source": [
    "The `University Rating` is an ordinal variable, it represents the student's undergraduate university ranking on a scale 1-5."
   ]
  },
  {
   "cell_type": "code",
   "execution_count": null,
   "metadata": {},
   "outputs": [],
   "source": [
    "df[\"University Rating\"].value_counts()"
   ]
  },
  {
   "cell_type": "code",
   "execution_count": null,
   "metadata": {},
   "outputs": [],
   "source": [
    "temp_df = df.groupby(by=\"University Rating\", as_index=False).agg(\n",
    "    counts=pd.NamedAgg(column=\"University Rating\", aggfunc=\"count\")\n",
    ")"
   ]
  },
  {
   "cell_type": "code",
   "execution_count": null,
   "metadata": {},
   "outputs": [],
   "source": [
    "temp_df[\"University Rating\"] = temp_df[\"University Rating\"].astype(str)"
   ]
  },
  {
   "cell_type": "code",
   "execution_count": null,
   "metadata": {},
   "outputs": [],
   "source": [
    "fig = px.bar(\n",
    "    data_frame=temp_df,\n",
    "    x=\"University Rating\",\n",
    "    y=\"counts\",\n",
    "    color=\"University Rating\",\n",
    "    color_discrete_sequence=px.colors.qualitative.D3,\n",
    "    title=\"Distribution of <b>University rating</b> variable\",\n",
    ")\n",
    "\n",
    "fig.show()"
   ]
  },
  {
   "cell_type": "markdown",
   "metadata": {},
   "source": [
    "We can see that the most common rating is in the middle: `3`. The chart shows that the ratings are distributed in a similar fashion to the normal distrbution."
   ]
  },
  {
   "cell_type": "markdown",
   "metadata": {},
   "source": [
    "### `SOP`"
   ]
  },
  {
   "cell_type": "markdown",
   "metadata": {},
   "source": [
    "`SOP` stands for the strength of *Statement of Purpose* which is a necessary document for graduate applications. The values were (mostly) entered by the students, and it's on scale 1-5, so this is an ordinal variable."
   ]
  },
  {
   "cell_type": "code",
   "execution_count": null,
   "metadata": {},
   "outputs": [],
   "source": [
    "df[\"SOP\"].value_counts()"
   ]
  },
  {
   "cell_type": "code",
   "execution_count": null,
   "metadata": {},
   "outputs": [],
   "source": [
    "temp_df = df.groupby(by=\"SOP\", as_index=False).agg(\n",
    "    counts=pd.NamedAgg(column=\"SOP\", aggfunc=\"count\")\n",
    ")"
   ]
  },
  {
   "cell_type": "code",
   "execution_count": null,
   "metadata": {},
   "outputs": [],
   "source": [
    "temp_df[\"SOP\"] = temp_df[\"SOP\"].astype(str)"
   ]
  },
  {
   "cell_type": "code",
   "execution_count": null,
   "metadata": {},
   "outputs": [],
   "source": [
    "fig = px.bar(\n",
    "    data_frame=temp_df,\n",
    "    x=\"SOP\",\n",
    "    y=\"counts\",\n",
    "    color=\"SOP\",\n",
    "    color_discrete_sequence=px.colors.qualitative.Prism,\n",
    "    title=\"Distribution of <b>SOP</b> variable\",\n",
    ")\n",
    "\n",
    "fig.show()"
   ]
  },
  {
   "cell_type": "markdown",
   "metadata": {},
   "source": [
    "Most students estimated the strength of their *Statement of Purpose* between `3` and `4`."
   ]
  },
  {
   "cell_type": "markdown",
   "metadata": {},
   "source": [
    "### `LOR`"
   ]
  },
  {
   "cell_type": "markdown",
   "metadata": {},
   "source": [
    "`LOR` stands for the strength of *Letter of Recommendation*. The values were (mostly) entered by the students, and it's on scale 1-5, so this is an ordinal variable."
   ]
  },
  {
   "cell_type": "code",
   "execution_count": null,
   "metadata": {},
   "outputs": [],
   "source": [
    "df[\"LOR\"].value_counts()"
   ]
  },
  {
   "cell_type": "code",
   "execution_count": null,
   "metadata": {},
   "outputs": [],
   "source": [
    "temp_df = df.groupby(by=\"LOR\", as_index=False).agg(\n",
    "    counts=pd.NamedAgg(column=\"LOR\", aggfunc=\"count\")\n",
    ")"
   ]
  },
  {
   "cell_type": "code",
   "execution_count": null,
   "metadata": {},
   "outputs": [],
   "source": [
    "temp_df[\"LOR\"] = temp_df[\"LOR\"].astype(str)"
   ]
  },
  {
   "cell_type": "code",
   "execution_count": null,
   "metadata": {},
   "outputs": [],
   "source": [
    "fig = px.bar(\n",
    "    data_frame=temp_df,\n",
    "    x=\"LOR\",\n",
    "    y=\"counts\",\n",
    "    color=\"LOR\",\n",
    "    color_discrete_sequence=px.colors.qualitative.Prism,\n",
    "    title=\"Distribution of <b>LOR</b> variable\",\n",
    ")\n",
    "\n",
    "fig.show()"
   ]
  },
  {
   "cell_type": "markdown",
   "metadata": {},
   "source": [
    "Most of the students rated the strength of ther *Letter of Recommendation* between `3` and `4`."
   ]
  },
  {
   "cell_type": "markdown",
   "metadata": {},
   "source": [
    "### `CGPA`"
   ]
  },
  {
   "cell_type": "markdown",
   "metadata": {},
   "source": [
    "The `CGPA` stands for the student's *cumulative grade point average*, which represents the average of grade points obtained in all the subjects by the student.\n",
    "\n",
    "It's a continuous variable, on a scale 0-10."
   ]
  },
  {
   "cell_type": "code",
   "execution_count": null,
   "metadata": {},
   "outputs": [],
   "source": [
    "df[\"CGPA\"].describe()"
   ]
  },
  {
   "cell_type": "code",
   "execution_count": null,
   "metadata": {},
   "outputs": [],
   "source": [
    "print(stats.skew(df[\"CGPA\"]))"
   ]
  },
  {
   "cell_type": "code",
   "execution_count": null,
   "metadata": {},
   "outputs": [],
   "source": [
    "fig = fig = px.histogram(\n",
    "    data_frame=df,\n",
    "    x=\"CGPA\",\n",
    "    marginal=\"box\",\n",
    "    color_discrete_sequence=[blue_color_hex],\n",
    "    nbins=12,\n",
    "    title=\"Distribution of <b>CGPA</b> variable\",\n",
    ")\n",
    "\n",
    "fig.show()"
   ]
  },
  {
   "cell_type": "markdown",
   "metadata": {},
   "source": [
    "As we can see, this variable is *very* close to a normal distribution, with a small negative (left) skewness, and there are no outliers."
   ]
  },
  {
   "cell_type": "markdown",
   "metadata": {},
   "source": [
    "### `Research`"
   ]
  },
  {
   "cell_type": "markdown",
   "metadata": {},
   "source": [
    "The `Research` variable indicates whether the student has any research experience or not, so it's a `Binary` variable.\n",
    "\n",
    "Although, it would be better to have a variable like `Research duration` which expresses for how long was the student involved in a research activity."
   ]
  },
  {
   "cell_type": "code",
   "execution_count": null,
   "metadata": {},
   "outputs": [],
   "source": [
    "df[\"Research\"].value_counts()"
   ]
  },
  {
   "cell_type": "code",
   "execution_count": null,
   "metadata": {},
   "outputs": [],
   "source": [
    "temp_df = df.groupby(by=\"Research\", as_index=False).agg(\n",
    "    counts=pd.NamedAgg(column=\"Research\", aggfunc=\"count\")\n",
    ")"
   ]
  },
  {
   "cell_type": "code",
   "execution_count": null,
   "metadata": {},
   "outputs": [],
   "source": [
    "fig = px.bar(\n",
    "    data_frame=temp_df,\n",
    "    x=\"Research\",\n",
    "    y=\"counts\",\n",
    "    color=\"Research\",\n",
    "    color_discrete_map={True: green_color_hex, False: red_color_hex},\n",
    "    color_continuous_scale=px.colors.qualitative.D3,\n",
    "    title=\"Distribution of <b>Research</b> variable\",\n",
    ")\n",
    "\n",
    "fig.show()"
   ]
  },
  {
   "cell_type": "markdown",
   "metadata": {},
   "source": [
    "From this plot, we can see that the number of students who have a research experience is *almost* equal to the number of students who don't.\n",
    "\n",
    "Later, we'll study the relation of this variable with other variables."
   ]
  },
  {
   "cell_type": "markdown",
   "metadata": {},
   "source": [
    "### `Chance of Admit`"
   ]
  },
  {
   "cell_type": "markdown",
   "metadata": {},
   "source": [
    "Quoting the dataste author from this [thread](https://www.kaggle.com/mohansacharya/graduate-admissions/discussion/79063#464899):\n",
    "\n",
    "> chance of admit is a parameter that was asked to individuals (some values manually entered) before the results of the application"
   ]
  },
  {
   "cell_type": "markdown",
   "metadata": {},
   "source": [
    "So thie column is not an actual *probability of admission* estimated by the universities or something, rather, it's an estimation by the student themselves of how likely they'll be admitted to the university."
   ]
  },
  {
   "cell_type": "code",
   "execution_count": null,
   "metadata": {},
   "outputs": [],
   "source": [
    "df[\"Chance of Admit\"].describe()"
   ]
  },
  {
   "cell_type": "code",
   "execution_count": null,
   "metadata": {},
   "outputs": [],
   "source": [
    "print(stats.skew(df[\"Chance of Admit\"]))"
   ]
  },
  {
   "cell_type": "code",
   "execution_count": null,
   "metadata": {},
   "outputs": [],
   "source": [
    "fig = px.histogram(\n",
    "    data_frame=df,\n",
    "    x=\"Chance of Admit\",\n",
    "    marginal=\"box\",\n",
    "    color_discrete_sequence=[blue_color_hex],\n",
    "    title=\"Distribution of <b>Chance of Admit</b> variable\",\n",
    ")\n",
    "\n",
    "fig.show()"
   ]
  },
  {
   "cell_type": "code",
   "execution_count": null,
   "metadata": {},
   "outputs": [],
   "source": [
    "df[df[\"Chance of Admit\"] < 0.36]"
   ]
  },
  {
   "cell_type": "markdown",
   "metadata": {},
   "source": [
    "The plot shows that most student estimated their chance of admission between `0.7` and `0.75`.\n",
    "\n",
    "The distribution is *moderately* skewed to the left with a negative skew value `-0.29`.\n",
    "\n",
    "There are also two outlier values `0.34`."
   ]
  },
  {
   "cell_type": "markdown",
   "metadata": {},
   "source": [
    "## Bivariate Analysis"
   ]
  },
  {
   "cell_type": "markdown",
   "metadata": {},
   "source": [
    "In this section, we'll focus on studying the relationship between two different variables, to answer different question, like\n",
    "- What is the relation between variable `x` and variable `y`? is it linear or non-linear?\n",
    "- In case of a linear relation, is positive linear relation or negative linear relation? and how *strong* is the relation?\n",
    "- How the distribution for two variables changes?"
   ]
  },
  {
   "cell_type": "markdown",
   "metadata": {},
   "source": [
    "### Correlation matrix"
   ]
  },
  {
   "cell_type": "markdown",
   "metadata": {},
   "source": [
    "We'll start off by computing the correlation matrix using `.corr` method of pandas, which computes the pairwise correlation of columns.\n",
    "\n",
    "The method used for calculating the correlation between two variables `x` and `y` is the [Pearson correlation coefficient](https://en.wikipedia.org/wiki/Pearson_correlation_coefficient).\n",
    "\n",
    "The pearson coefficient is a measure of the linear correlation between two variables `x` and `y`, and it takes values between `-1` and `+1`.\n",
    "\n",
    "A negative value indicates a negative correlation (i.e. when one variable *increases* the other *decreases*), and a positive value is the opposite (the two variables *increases*/*decreases* at the same time)\n",
    "\n",
    "![Correlation coefficient](https://upload.wikimedia.org/wikipedia/commons/3/34/Correlation_coefficient.png)\n",
    "\n",
    "Here, we'll compute the correlations only for `GRE Score`, `TOEFL Score` and `CGPA` variables, because they are *numeric* variables, and they weren't estimated by the students themselves."
   ]
  },
  {
   "cell_type": "code",
   "execution_count": null,
   "metadata": {},
   "outputs": [],
   "source": [
    "numeric_cols = [\"GRE Score\", \"TOEFL Score\", \"CGPA\"]"
   ]
  },
  {
   "cell_type": "code",
   "execution_count": null,
   "metadata": {},
   "outputs": [],
   "source": [
    "corr = df[numeric_cols].corr()"
   ]
  },
  {
   "cell_type": "code",
   "execution_count": null,
   "metadata": {},
   "outputs": [],
   "source": [
    "fig = px.imshow(\n",
    "    corr,\n",
    "    color_continuous_scale=\"PuBu\",\n",
    "    color_continuous_midpoint=0.6,\n",
    "    title=\"Correlation matrix\",\n",
    ")\n",
    "\n",
    "fig.show()"
   ]
  },
  {
   "cell_type": "markdown",
   "metadata": {},
   "source": [
    "We can see from the correlation matrix that the three variables have a strong positive correlation. We'll look closer at the relations between variables using scatter plots."
   ]
  },
  {
   "cell_type": "markdown",
   "metadata": {},
   "source": [
    "### Scatter plot"
   ]
  },
  {
   "cell_type": "markdown",
   "metadata": {},
   "source": [
    "Scatter plots are a good way to show the spread of points for two variables `x` and `y`, and view the relation between the two variables (e.g. linear, non-linear, ...) and the trend of the linear relation (positive, negative)\n",
    "\n",
    "An easy way to show multiple scatter plots on the same figure is either using `scatter_matrix` or `pairplot`."
   ]
  },
  {
   "cell_type": "code",
   "execution_count": null,
   "metadata": {},
   "outputs": [],
   "source": [
    "fig = px.scatter_matrix(\n",
    "    df,\n",
    "    dimensions=numeric_cols,\n",
    "    color_discrete_sequence=[blue_color_hex],\n",
    "    title=\"Scatter matrix of student's <b>TOEFL Score</b>, <b>GRE Score</b>, and <b>CGPA</b>\",\n",
    ")\n",
    "\n",
    "fig.update_traces(diagonal_visible=False)\n",
    "\n",
    "fig.show()"
   ]
  },
  {
   "cell_type": "markdown",
   "metadata": {},
   "source": [
    "It's evident from these plots that the relation between the variables is positive linear relation, with some outlier points, and they all have an upward trend.\n",
    "\n",
    "Let's show the scatter for each two variables at a time:"
   ]
  },
  {
   "cell_type": "markdown",
   "metadata": {},
   "source": [
    "#### `TOEFL Score` vs. `GRE Score`"
   ]
  },
  {
   "cell_type": "code",
   "execution_count": null,
   "metadata": {},
   "outputs": [],
   "source": [
    "corr_value = df[\"TOEFL Score\"].corr(df[\"GRE Score\"])\n",
    "\n",
    "fig = px.scatter(\n",
    "    data_frame=df,\n",
    "    x=\"TOEFL Score\",\n",
    "    y=\"GRE Score\",\n",
    "    marginal_x=\"histogram\",\n",
    "    marginal_y=\"histogram\",\n",
    "    trendline=\"ols\",\n",
    "    color_discrete_sequence=[blue_color_hex],\n",
    "    trendline_color_override=red_color_hex,\n",
    "    title=f\"Correlation between <b>TOEFL Score</b> and <b>GRE Score</b> is: {corr_value:.2f}\",\n",
    ")\n",
    "\n",
    "fig.show()"
   ]
  },
  {
   "cell_type": "markdown",
   "metadata": {},
   "source": [
    "#### `TOEFL Score` vs. `CGPA`"
   ]
  },
  {
   "cell_type": "code",
   "execution_count": null,
   "metadata": {},
   "outputs": [],
   "source": [
    "corr_value = df[\"TOEFL Score\"].corr(df[\"CGPA\"])\n",
    "\n",
    "fig = px.scatter(\n",
    "    data_frame=df,\n",
    "    x=\"TOEFL Score\",\n",
    "    y=\"CGPA\",\n",
    "    marginal_x=\"histogram\",\n",
    "    marginal_y=\"histogram\",\n",
    "    trendline=\"ols\",\n",
    "    color_discrete_sequence=[blue_color_hex],\n",
    "    trendline_color_override=red_color_hex,\n",
    "    title=f\"Correlation between <b>TOEFL Score</b> and <b>CGPA</b> is: {corr_value:.2f}\",\n",
    ")\n",
    "\n",
    "fig.show()"
   ]
  },
  {
   "cell_type": "markdown",
   "metadata": {},
   "source": [
    "#### `GRE Score` vs. `CGPA`"
   ]
  },
  {
   "cell_type": "code",
   "execution_count": null,
   "metadata": {},
   "outputs": [],
   "source": [
    "corr_value = df[\"GRE Score\"].corr(df[\"CGPA\"])\n",
    "\n",
    "fig = px.scatter(\n",
    "    data_frame=df,\n",
    "    x=\"GRE Score\",\n",
    "    y=\"CGPA\",\n",
    "    marginal_x=\"histogram\",\n",
    "    marginal_y=\"histogram\",\n",
    "    trendline=\"ols\",\n",
    "    color_discrete_sequence=[blue_color_hex],\n",
    "    trendline_color_override=red_color_hex,\n",
    "    title=f\"Correlation between <b>GRE Score</b> and <b>CGPA</b> is: {corr_value:.2f}\",\n",
    ")\n",
    "\n",
    "fig.show()"
   ]
  },
  {
   "cell_type": "markdown",
   "metadata": {},
   "source": [
    "From the previous three charts we can say that: students who perform well in their `TOEFL` exams tend to also perform well in `GRE` exams, and they *mostly* have high `GPA` (higher than 9)."
   ]
  },
  {
   "cell_type": "markdown",
   "metadata": {},
   "source": [
    "### Bivariate distributions"
   ]
  },
  {
   "cell_type": "markdown",
   "metadata": {},
   "source": [
    "Another way to study the relation between two variables is with 2D Histograms (distribution).\n",
    "\n",
    "Just like the distributions we used in the **Univariate Analysis** section, we can show the distribution for two variables `x` and `y`, which would give us better insights on how much the values from the two variables overlap, and show cluster regions in the 2D space.\n",
    "\n",
    "Compared to scatter plots, 2D histograms are better at handling large amounts of data, as they use rectangular bins, and count the number of points withing each bin."
   ]
  },
  {
   "cell_type": "markdown",
   "metadata": {},
   "source": [
    "#### `TOEFL Score` vs. `GRE Score`"
   ]
  },
  {
   "cell_type": "code",
   "execution_count": null,
   "metadata": {},
   "outputs": [],
   "source": [
    "fig = px.density_heatmap(\n",
    "    data_frame=df,\n",
    "    x=\"TOEFL Score\",\n",
    "    y=\"GRE Score\",\n",
    "    color_continuous_scale=px.colors.sequential.Blugrn,\n",
    "    title=\"Joint distribution of <b>TOEFL Score</b> and <b>GRE Score</b> variables\",\n",
    ")\n",
    "\n",
    "fig.show()"
   ]
  },
  {
   "cell_type": "markdown",
   "metadata": {},
   "source": [
    "We can see from this chart some *clusters* (regions).\n",
    "\n",
    "For example there are two clusters of students who scored between `110` and `115` in the `TOEFL` exam and between `320` and `330` in the `GRE` exam. These two clusters account for about 100 students (which is 20% of the total dataset)."
   ]
  },
  {
   "cell_type": "markdown",
   "metadata": {},
   "source": [
    "#### `TOEFL Score` vs. `CGPA`"
   ]
  },
  {
   "cell_type": "code",
   "execution_count": null,
   "metadata": {},
   "outputs": [],
   "source": [
    "fig = px.density_heatmap(\n",
    "    data_frame=df,\n",
    "    x=\"TOEFL Score\",\n",
    "    y=\"CGPA\",\n",
    "    color_continuous_scale=px.colors.sequential.Blugrn,\n",
    "    title=\"Joint distribution of <b>TOEFL Score</b> and <b>CGPA</b> variables\",\n",
    ")\n",
    "\n",
    "fig.show()"
   ]
  },
  {
   "cell_type": "markdown",
   "metadata": {},
   "source": [
    "This chart shows that about `170` students has `TOEFL` score in range `[105-115]` and their `CGPA` is in range `[8-9]`"
   ]
  },
  {
   "cell_type": "markdown",
   "metadata": {},
   "source": [
    "#### `GRE Score` vs. `CGPA`"
   ]
  },
  {
   "cell_type": "code",
   "execution_count": null,
   "metadata": {},
   "outputs": [],
   "source": [
    "fig = px.density_heatmap(\n",
    "    data_frame=df,\n",
    "    x=\"GRE Score\",\n",
    "    y=\"CGPA\",\n",
    "    color_continuous_scale=px.colors.sequential.Blugrn,\n",
    "    title=\"Bivariate distribution of <b>GRE Score</b> and <b>CGPA</b> variables\",\n",
    ")\n",
    "\n",
    "fig.show()"
   ]
  },
  {
   "cell_type": "markdown",
   "metadata": {},
   "source": [
    "This chart shows that almost `120` students has `GRE` scores in the range `[310-320]` and their `CGPA` is in thae range `[8-9]`."
   ]
  },
  {
   "cell_type": "markdown",
   "metadata": {},
   "source": [
    "### `Research`"
   ]
  },
  {
   "cell_type": "markdown",
   "metadata": {},
   "source": [
    "One interesting question would be: How does research experience affects other variables? Do students who have research experience have beeter *CGPA*? Do they have better scores in *TOEFL* or *GRE* (or both)?\n",
    "\n",
    "We can display the same distributions we used in the *Univariate analysis* section, with conditioning on `Research` variable:"
   ]
  },
  {
   "cell_type": "code",
   "execution_count": null,
   "metadata": {},
   "outputs": [],
   "source": [
    "fig = px.histogram(\n",
    "    data_frame=df,\n",
    "    x=\"TOEFL Score\",\n",
    "    color=\"Research\",\n",
    "    color_discrete_map={True: green_color_hex, False: red_color_hex},\n",
    "    barmode=\"group\",\n",
    "    title=\"Conditional distribution of <b>TOEFL Score</b> variable on the <b>Research</b> variable\",\n",
    ")\n",
    "\n",
    "fig.show()"
   ]
  },
  {
   "cell_type": "code",
   "execution_count": null,
   "metadata": {},
   "outputs": [],
   "source": [
    "fig = px.histogram(\n",
    "    data_frame=df,\n",
    "    x=\"GRE Score\",\n",
    "    color=\"Research\",\n",
    "    color_discrete_map={True: green_color_hex, False: red_color_hex},\n",
    "    barmode=\"group\",\n",
    "    title=\"Conditional distribution of <b>GRE Score</b> variable on the <b>Research</b> variable\",\n",
    ")\n",
    "\n",
    "fig.show()"
   ]
  },
  {
   "cell_type": "code",
   "execution_count": null,
   "metadata": {},
   "outputs": [],
   "source": [
    "fig = px.histogram(\n",
    "    data_frame=df,\n",
    "    x=\"CGPA\",\n",
    "    color=\"Research\",\n",
    "    color_discrete_map={True: green_color_hex, False: red_color_hex},\n",
    "    barmode=\"group\",\n",
    "    title=\"Conditional distribution of <b>CGPA</b> variable on the <b>Research</b> variable\",\n",
    ")\n",
    "\n",
    "fig.show()"
   ]
  },
  {
   "cell_type": "markdown",
   "metadata": {},
   "source": [
    "We can see that students who engage in research activities and have research experience, tend to perform better in both *TOEFL* and *GRE* exams, and they have higher *GPA*, in comparison to students who have no research experience."
   ]
  },
  {
   "cell_type": "markdown",
   "metadata": {},
   "source": [
    "### `University Rating`"
   ]
  },
  {
   "cell_type": "markdown",
   "metadata": {},
   "source": [
    "The `University Rating` variable represents the ranking of the university from which the student graduated.\n",
    "\n",
    "We might ask: How does the relation between student different scores changes for different university ranking?\n",
    "\n",
    "Let's see how the university ranking affects student's scores and GPA:"
   ]
  },
  {
   "cell_type": "code",
   "execution_count": null,
   "metadata": {},
   "outputs": [],
   "source": [
    "fig = px.histogram(\n",
    "    data_frame=df,\n",
    "    x=\"TOEFL Score\",\n",
    "    color=\"University Rating\",\n",
    "    barmode=\"group\",\n",
    "    color_discrete_sequence=px.colors.sequential.Burg,\n",
    "    title=\"Conditional distribution of <b>TOEFL Score</b> variable on the <b>University Rating</b> variable\",\n",
    ")\n",
    "\n",
    "fig.show()"
   ]
  },
  {
   "cell_type": "code",
   "execution_count": null,
   "metadata": {},
   "outputs": [],
   "source": [
    "fig = px.histogram(\n",
    "    data_frame=df,\n",
    "    x=\"GRE Score\",\n",
    "    color=\"University Rating\",\n",
    "    color_discrete_sequence=px.colors.sequential.Burg,\n",
    "    barmode=\"group\",\n",
    "    title=\"Conditional distribution of <b>GRE Score</b> variable on the <b>University Rating</b> variable\",\n",
    ")\n",
    "\n",
    "fig.show()"
   ]
  },
  {
   "cell_type": "code",
   "execution_count": null,
   "metadata": {},
   "outputs": [],
   "source": [
    "fig = px.histogram(\n",
    "    data_frame=df,\n",
    "    x=\"CGPA\",\n",
    "    color=\"University Rating\",\n",
    "    color_discrete_sequence=px.colors.sequential.Burg,\n",
    "    barmode=\"group\",\n",
    "    title=\"Conditional distribution of <b>CGPA</b> variable on the <b>University Rating</b> variable\",\n",
    ")\n",
    "\n",
    "fig.show()"
   ]
  },
  {
   "cell_type": "markdown",
   "metadata": {},
   "source": [
    "The university ranking plays an important role in student's scores and GPA, we can observe that students who go to higher ranking universities, have higher scores in the *TOEFL* and *GRE* exams, and they have higher *GPA*."
   ]
  },
  {
   "cell_type": "markdown",
   "metadata": {},
   "source": [
    "## Multivariate Analysis"
   ]
  },
  {
   "cell_type": "markdown",
   "metadata": {},
   "source": [
    "So far, all the plots we used before were used either to explore one variable, or to show the relation between a pair of variables.\n",
    "\n",
    "However, we are often interested in answering the question: **How does the relation between two variables changes as a function of a *third* variable?**\n",
    "\n",
    "In this section, we'll focus on answering these kinds of questions, where we'll use similar plots to the ones we used before, with conditioning on other variable."
   ]
  },
  {
   "cell_type": "markdown",
   "metadata": {},
   "source": [
    "### Scatter matrix with `Research`"
   ]
  },
  {
   "cell_type": "markdown",
   "metadata": {},
   "source": [
    "We start by plotting the scatter matrix for variables `TOEFL Score`, `GRE Score` and `CGPA` (just as we did in bivariate analysis section), with showing the relation to `Research` variable with color coding.\n",
    "\n",
    "This will draw an overall picture of how these variables are related to each other, and how this relation changes when whether student has a research experience or not."
   ]
  },
  {
   "cell_type": "code",
   "execution_count": null,
   "metadata": {},
   "outputs": [],
   "source": [
    "fig = px.scatter_matrix(\n",
    "    data_frame=df,\n",
    "    dimensions=numeric_cols,\n",
    "    color=\"Research\",\n",
    "    color_discrete_map={True: green_color_hex, False: red_color_hex},\n",
    "    title=\"Scatter matrix for <b>TOEFL Score</b>, <b>GRE Score</b>, and <b>CGPA</b> conditioning on <b>Research</b> variable\",\n",
    ")\n",
    "\n",
    "fig.update_traces(diagonal_visible=False)\n",
    "\n",
    "fig.show()"
   ]
  },
  {
   "cell_type": "markdown",
   "metadata": {},
   "source": [
    "We can how students who have research experience tend to have higher scores and better GPA."
   ]
  },
  {
   "cell_type": "markdown",
   "metadata": {},
   "source": [
    "### Bivariate distribution with `University Rating`"
   ]
  },
  {
   "cell_type": "markdown",
   "metadata": {},
   "source": [
    "As we saw earlier, the ranking of student's university plays an important role in other variables, and higher university ranking is linked with better performance in TOEFL and GRE exams, and higher GPA.\n",
    "\n",
    "Here, we'll show the bivariate distribution of each pair of variables, for different university ranking values.\n",
    "\n",
    "This way, we will be able to study the relation between two variables `x` and `y` as a function of the university ranking value."
   ]
  },
  {
   "cell_type": "markdown",
   "metadata": {},
   "source": [
    "#### `TOEFL Score` vs. `GRE Score`"
   ]
  },
  {
   "cell_type": "code",
   "execution_count": null,
   "metadata": {},
   "outputs": [],
   "source": [
    "fig = px.density_heatmap(\n",
    "    data_frame=df,\n",
    "    x=\"TOEFL Score\",\n",
    "    y=\"GRE Score\",\n",
    "    color_continuous_scale=px.colors.sequential.Blugrn,\n",
    "    facet_col=\"University Rating\",\n",
    "    title=\"<b>TOEFL Score</b> vs. <b>GRE Score</b> for different values of <b>University Rating</b>\",\n",
    ")\n",
    "\n",
    "fig.show()"
   ]
  },
  {
   "cell_type": "markdown",
   "metadata": {},
   "source": [
    "#### `TOEFL Score` vs. `CGPA`"
   ]
  },
  {
   "cell_type": "code",
   "execution_count": null,
   "metadata": {},
   "outputs": [],
   "source": [
    "fig = px.density_heatmap(\n",
    "    data_frame=df,\n",
    "    x=\"TOEFL Score\",\n",
    "    y=\"CGPA\",\n",
    "    facet_col=\"University Rating\",\n",
    "    color_continuous_scale=px.colors.sequential.Blugrn,\n",
    "    title=\"<b>TOEFL Score</b> vs. <b>CGPA</b> for different values of <b>University Rating</b>\",\n",
    ")\n",
    "\n",
    "fig.show()"
   ]
  },
  {
   "cell_type": "markdown",
   "metadata": {},
   "source": [
    "#### `GRE Score` vs. `CGPA`"
   ]
  },
  {
   "cell_type": "code",
   "execution_count": null,
   "metadata": {},
   "outputs": [],
   "source": [
    "fig = px.density_heatmap(\n",
    "    data_frame=df,\n",
    "    x=\"GRE Score\",\n",
    "    y=\"CGPA\",\n",
    "    facet_col=\"University Rating\",\n",
    "    color_continuous_scale=px.colors.sequential.Blugrn,\n",
    "    title=\"<b>GRE Score</b> vs. <b>CGPA</b> for different values of <b>University Rating</b>\",\n",
    ")\n",
    "\n",
    "fig.show()"
   ]
  },
  {
   "cell_type": "markdown",
   "metadata": {},
   "source": [
    "All these charts support our previous hypothesis: **University ranking influences positively student's performance.**"
   ]
  },
  {
   "cell_type": "markdown",
   "metadata": {},
   "source": [
    "### `Research` and `University Rating`"
   ]
  },
  {
   "cell_type": "markdown",
   "metadata": {},
   "source": [
    "In all previous plots we used either the `Research` variable or `University Rating` variable, however, it would very helpful to see how these two variables interact with each other, and how other vriables interact with them.\n",
    "\n",
    "Here, we'll use scatterplot to show relation between two variables `x` and `y`, and show how this relation changes for different values of `Research` and `University Rating`.\n",
    "\n",
    "This would be useful for answering questions:\n",
    "\n",
    "- Do students who go to higher-ranking universitries, are more involved in research activiteis?\n",
    "- How research experience and university ranking influence student's performance in exams and GPA?\n",
    "- Are there any outlier points? "
   ]
  },
  {
   "cell_type": "markdown",
   "metadata": {},
   "source": [
    "#### `TOEFL Score` vs. `GRE Score`"
   ]
  },
  {
   "cell_type": "code",
   "execution_count": null,
   "metadata": {},
   "outputs": [],
   "source": [
    "fig = px.scatter(\n",
    "    data_frame=df,\n",
    "    x=\"TOEFL Score\",\n",
    "    y=\"GRE Score\",\n",
    "    color=\"Research\",\n",
    "    facet_col=\"University Rating\",\n",
    "    trendline=\"ols\",\n",
    "    symbol=\"Research\",\n",
    "    color_discrete_map={True: green_color_hex, False: red_color_hex},\n",
    "    title=\"Scatter matrix for <b>TOEFL Score</b> vs. <b>GRE Score</b> conditioning on <b>University Rating</b> and <b>Research</b> variables\",\n",
    ")\n",
    "\n",
    "fig.show()"
   ]
  },
  {
   "cell_type": "markdown",
   "metadata": {},
   "source": [
    "#### `TOEFL Score` vs. `CGPA`"
   ]
  },
  {
   "cell_type": "code",
   "execution_count": null,
   "metadata": {},
   "outputs": [],
   "source": [
    "fig = px.scatter(\n",
    "    data_frame=df,\n",
    "    x=\"TOEFL Score\",\n",
    "    y=\"CGPA\",\n",
    "    color=\"Research\",\n",
    "    facet_col=\"University Rating\",\n",
    "    trendline=\"ols\",\n",
    "    symbol=\"Research\",\n",
    "    color_discrete_map={True: green_color_hex, False: red_color_hex},\n",
    "    title=\"Scatter matrix for <b>TOEFL Score</b> vs. <b>CGPA</b> conditioning on <b>University Rating</b> and <b>Research</b> variables\",\n",
    ")\n",
    "\n",
    "fig.show()"
   ]
  },
  {
   "cell_type": "markdown",
   "metadata": {},
   "source": [
    "#### `GRE Score` vs. `CGPA`"
   ]
  },
  {
   "cell_type": "code",
   "execution_count": null,
   "metadata": {},
   "outputs": [],
   "source": [
    "fig = px.scatter(\n",
    "    data_frame=df,\n",
    "    x=\"GRE Score\",\n",
    "    y=\"CGPA\",\n",
    "    color=\"Research\",\n",
    "    facet_col=\"University Rating\",\n",
    "    trendline=\"ols\",\n",
    "    symbol=\"Research\",\n",
    "    color_discrete_map={True: green_color_hex, False: red_color_hex},\n",
    "    title=\"Scatter matrix for <b>GRE Score</b> vs. <b>CGPA</b> conditioning on <b>University Rating</b> and <b>Research</b> variables\",\n",
    "    labels={\"University Rating\": \"University Rating\"},\n",
    ")\n",
    "\n",
    "fig.show()"
   ]
  },
  {
   "cell_type": "markdown",
   "metadata": {},
   "source": [
    "As we can see, higher university ranking is linked with research experience, and they both affects student's scores and GPA.\n",
    "\n",
    "We can also see that there are some *outlier* points, where student goes to a low-ranking university and has no research experience, but have *good* scores.\n",
    "\n",
    "This way of studying how the relation between two variables changes as a function of other variables is very useful when we have a very large amount of data, and we want to study the relation between two *quanitative variables*, and how this relation changes with respect to other *categorical variables*, as we will have fewer points to investigate, rather than a single scatter plot with too many points."
   ]
  }
 ],
 "metadata": {
  "interpreter": {
   "hash": "446a3c8573fd4e903aadb42438d7fe06affe7ee6aac5cb89becf682960e51da2"
  },
  "kernelspec": {
   "display_name": "Python 3.8.3 64-bit ('base': conda)",
   "name": "python3"
  },
  "language_info": {
   "codemirror_mode": {
    "name": "ipython",
    "version": 3
   },
   "file_extension": ".py",
   "mimetype": "text/x-python",
   "name": "python",
   "nbconvert_exporter": "python",
   "pygments_lexer": "ipython3",
   "version": "3.8.3"
  },
  "metadata": {
   "interpreter": {
    "hash": "8a1b664472645fbdeddccbbeb693eff446619ef1185e9cf87205c08975ed60e7"
   }
  },
  "toc-autonumbering": true
 },
 "nbformat": 4,
 "nbformat_minor": 4
}
